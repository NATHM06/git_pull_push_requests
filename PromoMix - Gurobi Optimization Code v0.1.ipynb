{
 "cells": [
  {
   "cell_type": "markdown",
   "metadata": {},
   "source": [
    "## PromoMix - Gurobi Optimization Code"
   ]
  },
  {
   "cell_type": "code",
   "execution_count": 78,
   "metadata": {},
   "outputs": [],
   "source": [
    "import numpy as np\n",
    "import pandas as pd\n",
    "import math"
   ]
  },
  {
   "cell_type": "code",
   "execution_count": 79,
   "metadata": {},
   "outputs": [],
   "source": [
    "import gurobipy as gp\n",
    "from gurobipy import GRB"
   ]
  },
  {
   "cell_type": "code",
   "execution_count": 157,
   "metadata": {},
   "outputs": [],
   "source": [
    "promomix_df = pd.read_excel('C:/Users/ANANDA28/Desktop/Work/Promo Mix Simulator/Gurobi Exploration/Input Data - PromoMix.xlsx',sheet_name = \"Raw Data\")\n",
    "response_curve_df = pd.read_excel('C:/Users/ANANDA28/Desktop/Work/Promo Mix Simulator/Gurobi Exploration/Input Data - PromoMix.xlsx', sheet_name='Response Curve')"
   ]
  },
  {
   "cell_type": "code",
   "execution_count": 158,
   "metadata": {
    "collapsed": true
   },
   "outputs": [
    {
     "name": "stdout",
     "output_type": "stream",
     "text": [
      "(41, 125)\n",
      "['country', 'brand', 'segment', 'period', 'level', 'segment_level', 'channel_category', 'channel_type', 'channel', 'sub_channel', 'segment_description', 'last_refresh_date', 'time_id', 'lt_roi_lower_metric_value_max', 'sales_per_activity', 'lt_factor', 'active_months', 'gross_lt_incremental_revenue_per_activity', 'realized_contribution_upper', 'realized_incremental_rx_upper', 'lt_contribution_upper', 'lt_contribution_lower', 'spend_per_activity', 'ad_stock_factor', 'lt_incremental_rx', 'c_mroi_metric_value_max', 'lt_incremental_rx_per_activity', 'lt_incremental_revenue_lower', 'lt_incremental_revenue_upper', 'incremental_rx_year1', 'gross_realized_roi', 'brand_trx', 'no_of_bricks', 'incremental_revenue_from_model_upper', 'major_active_months', 'incremental_revenue_from_model', 'incremental_rx_per_activity', 'gross_realized_incremental_revenue_per_activity', 'net_realized_roi', 'realized_incremental_revenue_lower', 'secondary_spend_per_activity', 'realized_roi_lower_metric_value_max', 'units', 'opt_chnl_selected_flg', 'trx_nrx_ratio', 'lt_interactions', 'realized_contribution', 'incremental_rx_year2', 'upper_long_term_contribution', 'realized_incremental_units', 'standard_deviation', 'reached_brand_units', 'roi_from_model_metric_value_max', 'incremental_revenue_per_activity_metric_value_max', 'lt_roi_upper_metric_value_max', 'contribution_realization_year3', 'secondary_activity', 'dollarized_lt_impact_per_activity', 'realized_contribution_lower', 'realization_rate', 'net_price', 'incremental_rx_from_model_upper', 'gross_lt_roi', 'realized_incremental_rx', 'net_lt_roi', 'net_lt_mroi', 'gross_lt_mroi', 'secondary_lt_incremental_rx_per_activity', 'revenue_per_brand_unit', 'net_realized_incremental_revenue', 'incremental_revenue_year3', 'contribution_from_model', 'wac', 'post_period_impact_months', 'realized_incremental_rx_lower', 'incremental_revenue_year1', 'gross_sales', 'contribution_realization_year1', 'lt_incremental_rx_upper', 'realized_roi_upper_metric_value_max', 'activity_mod', 'gross_lt_incremental_revenue', 'impactable_sales', 'co_impact', 'roi_from_model_upper_metric_value_max', 'net_incremental_revenue_from_model', 'realized_incremental_revenue_upper', 'p_value', 'impact_estimate', 'lt_incremental_rx_lower', 'contribution_realization_year2', 'incremental_rx_from_model_lower', 'incremental_rx_from_model', 'secondary_average_activity_per_month', 'gross_realized_incremental_revenue', 'incremental_revenue_year2', 'incremental_revenue_from_model_lower', 'secondary_lt_incremental_revenue_per_activity', 'reached_tnc', 'total_brand_units', 'activity', 'net_realized_incremental_revenue_per_activity', 'estimate_of_carry_over', 'spend', 'net_realized_profit', 'gross_realized_profit', 'gross_lt_profit', 'net_lt_incremental_revenue', 'net_lt_profit', 'net_lt_incremental_revenue_per_activity', 'incremental_rx_year3', 'average_activity_per_month', 'annualization_factor', 'realization_factor', 'roi_from_model_lower_metric_value_max', 'contribution_from_model_upper', 'contribution_from_model_lower', 'modelling_months', 'k_value', 'c_value', 'beta', 'reach', 'frequency', 'gtn', 'net_sales']\n",
      "\n",
      "\n",
      "(8241, 13)\n",
      "['country', 'brand', 'segment', 'period', 'level', 'segment_level', 'channel', 'seq_vec', 'spend', 'net_lt_incremental_revenue', 'net_profit', 'net_roi', 'net_mroi']\n"
     ]
    }
   ],
   "source": [
    "print(promomix_df.shape)\n",
    "print(promomix_df.columns.tolist())\n",
    "print('\\n')\n",
    "print(response_curve_df.shape)\n",
    "print(response_curve_df.columns.tolist())"
   ]
  },
  {
   "cell_type": "code",
   "execution_count": 330,
   "metadata": {},
   "outputs": [],
   "source": [
    "# Initialize with default bounds\n",
    "margin = 20\n",
    "\n",
    "# user inputs from frontend\n",
    "\n",
    "promomix_df['spend_lower_bound'] = (1-(margin/100))*promomix_df['spend']\n",
    "promomix_df['spend_upper_bound'] = (1+(margin/100))*promomix_df['spend']\n",
    "\n",
    "promomix_df['opt_max_func'] = \"Profit\" # Two options : 1.Sales ; 2.Profit\n",
    "promomix_df['opt_max_criteria'] = \"Change spend to\" # Three options : 1.Recommend an Optimal Spend ; 2.Only reallocate Spend ; 3.Change spend to\n",
    "promomix_df['opt_channel_level'] = \"National\"  # Two options for level : 1.National ; 2.Segment \n",
    "promomix_df['user_inp_change_spend_to'] =  300000000\n",
    "\n"
   ]
  },
  {
   "cell_type": "code",
   "execution_count": 331,
   "metadata": {},
   "outputs": [],
   "source": [
    "inp_df = promomix_df\n",
    "inp_resp_df = response_curve_df"
   ]
  },
  {
   "cell_type": "code",
   "execution_count": 332,
   "metadata": {},
   "outputs": [],
   "source": [
    "########################################################################\n",
    "## 1. Pre - Processing on Input table based on constraints selections ##\n",
    "########################################################################\n",
    "\n",
    "# Modify Input Data based on National/ Segment Selection\n",
    "chnl_natl_only = [x for x in inp_df[inp_df['level'].str.lower() == 'level 4 - subchannel']['channel'].unique() if x not in inp_df[inp_df['level'].str.lower() == 'segment']['channel'].unique()]\n",
    "\n",
    "if(''.join(inp_df['opt_channel_level'].unique()).lower() == 'national'):\n",
    "    inp_df = inp_df[inp_df['level'].str.lower() == 'level 4 - subchannel']\n",
    "elif(''.join(inp_df['opt_channel_level'].unique()).lower() == 'segment'):\n",
    "    inp_df = pd.merge(inp_df,inp_df[(np.logical_not(inp_df['channel'].isin(chnl_natl_only))) & (inp_df['level'].str.lower() == 'level 4 - subchannel')][['channel','spend_lower_bound','spend_upper_bound']].rename(columns={'spend_lower_bound':'natl_spend_lower_bound','spend_upper_bound':'natl_spend_upper_bound'}),on=['channel',],how='left')\n",
    "    inp_df = inp_df[(inp_df['level'].str.lower() == 'segment') | ((inp_df['level'].str.lower() == 'level 4 - subchannel') & (inp_df['channel'].isin(chnl_natl_only)))]\n",
    "\n",
    "# Identify channel - segment selected by user for optimization\n",
    "channels_to_opt = inp_df[inp_df['opt_chnl_selected_flg']==1][['channel', 'segment']].agg(tuple, 1).unique()\n",
    "\n",
    "# Sales/Profit Maximization Criteria (Remove the component of spends which are not to be optimized)\n",
    "\n",
    "if(''.join(inp_df['opt_max_criteria'].unique()).lower() =='only reallocate spend'):\n",
    "    total_spend = inp_df['spend'].sum() - (inp_df[inp_df['opt_chnl_selected_flg']==0]['spend'].sum() if 0 in inp_df['opt_chnl_selected_flg'] else 0)\n",
    "elif(''.join(inp_df['opt_max_criteria'].unique()).lower() =='change spend to'):\n",
    "    total_spend = float(inp_df['user_inp_change_spend_to'].unique()) - (inp_df[inp_df['opt_chnl_selected_flg']==0]['spend'].sum() if 0 in inp_df['opt_chnl_selected_flg'] else 0 )\n",
    "# elif(''.join(inp_df['opt_max_criteria'].unique()).lower() =='recommend optimal spend'):\n",
    "#     total_spend = 100000*inp_df['spend'].sum() - (inp_df[inp_df['opt_chnl_selected_flg']==0]['spend'].sum() if 0 in inp_df['opt_chnl_selected_flg'] else 0 ) \n"
   ]
  },
  {
   "cell_type": "code",
   "execution_count": 249,
   "metadata": {},
   "outputs": [
    {
     "name": "stdout",
     "output_type": "stream",
     "text": [
      "299703565.0\n",
      "[('DTC DISPLAY-RA PSA BRANDED', 'NATIONAL')\n",
      " ('DTC DISPLAY-UC BRANDED', 'NATIONAL')\n",
      " ('DTC PRINT-RA BRANDED', 'NATIONAL')\n",
      " ('DTC SEARCH-RA PSA AGNOSTIC BRANDED', 'NATIONAL')\n",
      " ('DTC SEARCH-UC BRANDED', 'NATIONAL')\n",
      " ('DTC SOCIAL-RA PSA BRANDED', 'NATIONAL')\n",
      " ('DTC SOCIAL-UC BRANDED', 'NATIONAL') ('DTC TV-PSA BRANDED', 'NATIONAL')\n",
      " ('DTC TV-RA BRANDED', 'NATIONAL') ('DTC TV-RHEUM BRANDED', 'NATIONAL')\n",
      " ('DTC TV-UC BRANDED', 'NATIONAL')\n",
      " ('DTC VIDEO-RA PSA RHEUM BRANDED', 'NATIONAL')\n",
      " ('DTC VIDEO-UC BRANDED', 'NATIONAL') ('PFIZER DETAILS', 'NATIONAL')\n",
      " ('PFIZER SAMPLES', 'NATIONAL') ('SPEAKER', 'NATIONAL')]\n"
     ]
    }
   ],
   "source": [
    "print(total_spend)\n",
    "print(channels_to_opt)"
   ]
  },
  {
   "cell_type": "code",
   "execution_count": 164,
   "metadata": {
    "collapsed": true
   },
   "outputs": [
    {
     "name": "stdout",
     "output_type": "stream",
     "text": [
      "DTC DISPLAY-RA PSA BRANDED\n",
      "DTC DISPLAY-UC BRANDED\n",
      "DTC PRINT-RA BRANDED\n",
      "DTC SEARCH-RA PSA AGNOSTIC BRANDED\n",
      "DTC SEARCH-UC BRANDED\n",
      "DTC SOCIAL-RA PSA BRANDED\n",
      "DTC SOCIAL-UC BRANDED\n",
      "DTC TV-PSA BRANDED\n",
      "DTC TV-RA BRANDED\n",
      "DTC TV-RHEUM BRANDED\n",
      "DTC TV-UC BRANDED\n",
      "DTC VIDEO-RA PSA RHEUM BRANDED\n",
      "DTC VIDEO-UC BRANDED\n",
      "PFIZER DETAILS\n",
      "PFIZER SAMPLES\n",
      "SPEAKER\n"
     ]
    }
   ],
   "source": [
    "for i in range(len(channels_to_opt)):\n",
    "    print(channels_to_opt[i][0])"
   ]
  },
  {
   "cell_type": "code",
   "execution_count": 333,
   "metadata": {},
   "outputs": [],
   "source": [
    "opt_tuple = []\n",
    "num_channels = len(channels_to_opt)"
   ]
  },
  {
   "cell_type": "code",
   "execution_count": 334,
   "metadata": {},
   "outputs": [],
   "source": [
    "env.dispose()"
   ]
  },
  {
   "cell_type": "code",
   "execution_count": 335,
   "metadata": {},
   "outputs": [],
   "source": [
    "env.close()"
   ]
  },
  {
   "cell_type": "code",
   "execution_count": 336,
   "metadata": {},
   "outputs": [
    {
     "name": "stdout",
     "output_type": "stream",
     "text": [
      "Changed value of parameter CSManager to 10.192.71.173:61080\n",
      "   Prev:   Default: \n",
      "Changed value of parameter CSAPIAccessID to 5bcf91fe-dbd5-4b16-bb1e-676001613076\n",
      "   Prev:   Default: \n",
      "Changed value of parameter CSAPISecret\n",
      "Using license file C:\\gurobi903\\gurobi.lic\n",
      "Set parameter CSManager to value 10.192.71.173:61080\n",
      "Set parameter CSAPIAccessID to value 5bcf91fe-dbd5-4b16-bb1e-676001613076\n",
      "Set parameter CSAPISecret\n",
      "Compute Server job ID: d881a3b7-d24c-482f-8f9a-d3deb044fc7e\n",
      "Capacity available on '10.192.71.215' - connecting...\n",
      "Established HTTP unencrypted connection\n"
     ]
    },
    {
     "data": {
      "text/plain": [
       "<gurobipy.Env, Parameter changes: JobID=d881a3b7-d24c-482f-8f9a-d3deb044fc7e, CSManager=10.192.71.173:61080, CSAPIAccessID=5bcf91fe-dbd5-4b16-bb1e-676001613076, CSAPISecret=(user-defined)>"
      ]
     },
     "execution_count": 336,
     "metadata": {},
     "output_type": "execute_result"
    }
   ],
   "source": [
    "env = gp.Env(empty=True)\n",
    "env.setParam(\"CSManager\",\"10.192.71.173:61080\")\n",
    "env.setParam(\"CSAPIAccessID\", \"5bcf91fe-dbd5-4b16-bb1e-676001613076\")\n",
    "env.setParam(\"CSAPISecret\", \"ad261c20-395a-4a86-b059-bd6d7779d132\")\n",
    "env.start()"
   ]
  },
  {
   "cell_type": "code",
   "execution_count": 337,
   "metadata": {},
   "outputs": [],
   "source": [
    "model = gp.Model(\"promomix-model\", env=env)"
   ]
  },
  {
   "cell_type": "code",
   "execution_count": 338,
   "metadata": {},
   "outputs": [],
   "source": [
    "x = {}\n",
    "y = {}\n",
    "\n",
    "for i in range(num_channels):\n",
    "    x[i] = model.addVar(vtype = GRB.CONTINUOUS,lb = float(inp_df[inp_df[['channel', 'segment']].agg(tuple, 1) == channels_to_opt[i]]['spend_lower_bound']),ub = float(inp_df[inp_df[['channel', 'segment']].agg(tuple, 1) == channels_to_opt[i]]['spend_upper_bound']), name = ('|'.join(channels_to_opt[i]) + '|' + 'Spend'))\n",
    "    y[i] = model.addVar(vtype = GRB.CONTINUOUS, lb = (-gp.GRB.INFINITY), ub = gp.GRB.INFINITY, name = ('|'.join(channels_to_opt[i]) + '|' + 'Revenue'))\n",
    "\n",
    "# Constraint:\n",
    "if(''.join(inp_df['opt_max_criteria'].unique()).lower()!='recommend an optimal spend'):\n",
    "    model.addConstr(gp.quicksum(x[i] for i in range(num_channels)) == total_spend, \"Total Spend Constraint \")\n",
    "\n",
    "# Add piecewise-linear constraint - Response Curves\n",
    "\n",
    "if(''.join(inp_df['opt_max_func'].unique()).lower() == \"sales\"):\n",
    "    for i in range(num_channels):\n",
    "        model.addGenConstrPWL(x[i], y[i], inp_resp_df[inp_resp_df[['channel', 'segment']].agg(tuple, 1) == channels_to_opt[i]]['spend'].tolist(), inp_resp_df[inp_resp_df[['channel', 'segment']].agg(tuple, 1) == channels_to_opt[i]]['net_lt_incremental_revenue'].tolist(), \"pwl\")\n",
    "elif(''.join(inp_df['opt_max_func'].unique()).lower() == \"profit\"):\n",
    "     for i in range(num_channels):\n",
    "        model.addGenConstrPWL(x[i], y[i], inp_resp_df[inp_resp_df[['channel', 'segment']].agg(tuple, 1) == channels_to_opt[i]]['spend'].tolist(), inp_resp_df[inp_resp_df[['channel', 'segment']].agg(tuple, 1) == channels_to_opt[i]]['net_profit'].tolist(), \"pwl\")\n"
   ]
  },
  {
   "cell_type": "code",
   "execution_count": null,
   "metadata": {},
   "outputs": [],
   "source": [
    "mycts = m.addConstrs((quicksum(x[i] for i in range() for p in P[i,f]) <= z[f,t]), \"myconstraint\")"
   ]
  },
  {
   "cell_type": "code",
   "execution_count": 217,
   "metadata": {},
   "outputs": [],
   "source": [
    "model.update()"
   ]
  },
  {
   "cell_type": "code",
   "execution_count": 218,
   "metadata": {
    "collapsed": true
   },
   "outputs": [
    {
     "data": {
      "text/plain": [
       "[<gurobi.Var DTC DISPLAY-RA PSA BRANDED|NATIONAL|Spend>,\n",
       " <gurobi.Var DTC DISPLAY-RA PSA BRANDED|NATIONAL|Revenue>,\n",
       " <gurobi.Var DTC DISPLAY-UC BRANDED|NATIONAL|Spend>,\n",
       " <gurobi.Var DTC DISPLAY-UC BRANDED|NATIONAL|Revenue>,\n",
       " <gurobi.Var DTC PRINT-RA BRANDED|NATIONAL|Spend>,\n",
       " <gurobi.Var DTC PRINT-RA BRANDED|NATIONAL|Revenue>,\n",
       " <gurobi.Var DTC SEARCH-RA PSA AGNOSTIC BRANDED|NATIONAL|Spend>,\n",
       " <gurobi.Var DTC SEARCH-RA PSA AGNOSTIC BRANDED|NATIONAL|Revenue>,\n",
       " <gurobi.Var DTC SEARCH-UC BRANDED|NATIONAL|Spend>,\n",
       " <gurobi.Var DTC SEARCH-UC BRANDED|NATIONAL|Revenue>,\n",
       " <gurobi.Var DTC SOCIAL-RA PSA BRANDED|NATIONAL|Spend>,\n",
       " <gurobi.Var DTC SOCIAL-RA PSA BRANDED|NATIONAL|Revenue>,\n",
       " <gurobi.Var DTC SOCIAL-UC BRANDED|NATIONAL|Spend>,\n",
       " <gurobi.Var DTC SOCIAL-UC BRANDED|NATIONAL|Revenue>,\n",
       " <gurobi.Var DTC TV-PSA BRANDED|NATIONAL|Spend>,\n",
       " <gurobi.Var DTC TV-PSA BRANDED|NATIONAL|Revenue>,\n",
       " <gurobi.Var DTC TV-RA BRANDED|NATIONAL|Spend>,\n",
       " <gurobi.Var DTC TV-RA BRANDED|NATIONAL|Revenue>,\n",
       " <gurobi.Var DTC TV-RHEUM BRANDED|NATIONAL|Spend>,\n",
       " <gurobi.Var DTC TV-RHEUM BRANDED|NATIONAL|Revenue>,\n",
       " <gurobi.Var DTC TV-UC BRANDED|NATIONAL|Spend>,\n",
       " <gurobi.Var DTC TV-UC BRANDED|NATIONAL|Revenue>,\n",
       " <gurobi.Var DTC VIDEO-RA PSA RHEUM BRANDED|NATIONAL|Spend>,\n",
       " <gurobi.Var DTC VIDEO-RA PSA RHEUM BRANDED|NATIONAL|Revenue>,\n",
       " <gurobi.Var DTC VIDEO-UC BRANDED|NATIONAL|Spend>,\n",
       " <gurobi.Var DTC VIDEO-UC BRANDED|NATIONAL|Revenue>,\n",
       " <gurobi.Var PFIZER DETAILS|NATIONAL|Spend>,\n",
       " <gurobi.Var PFIZER DETAILS|NATIONAL|Revenue>,\n",
       " <gurobi.Var PFIZER SAMPLES|NATIONAL|Spend>,\n",
       " <gurobi.Var PFIZER SAMPLES|NATIONAL|Revenue>,\n",
       " <gurobi.Var SPEAKER|NATIONAL|Spend>,\n",
       " <gurobi.Var SPEAKER|NATIONAL|Revenue>]"
      ]
     },
     "execution_count": 218,
     "metadata": {},
     "output_type": "execute_result"
    }
   ],
   "source": [
    "model.getVars()"
   ]
  },
  {
   "cell_type": "code",
   "execution_count": 339,
   "metadata": {},
   "outputs": [],
   "source": [
    "# Objective Function\n",
    "model.setObjective(gp.quicksum(y[i] for i in range(num_channels)), GRB.MAXIMIZE)"
   ]
  },
  {
   "cell_type": "code",
   "execution_count": 340,
   "metadata": {},
   "outputs": [
    {
     "name": "stdout",
     "output_type": "stream",
     "text": [
      "Gurobi Optimizer version 9.0.3 build v9.0.3rc0 (win64)\n",
      "Optimize a model with 1 rows, 32 columns and 16 nonzeros\n",
      "Model fingerprint: 0x7b691f70\n",
      "Model has 16 general constraints\n",
      "Variable types: 32 continuous, 0 integer (0 binary)\n",
      "Coefficient statistics:\n",
      "  Matrix range     [1e+00, 1e+00]\n",
      "  Objective range  [1e+00, 1e+00]\n",
      "  Bounds range     [1e+06, 9e+07]\n",
      "  RHS range        [3e+08, 3e+08]\n",
      "Presolve added 32 rows and 640 columns\n",
      "Presolve time: 0.00s\n",
      "Presolved: 33 rows, 672 columns, 1344 nonzeros\n",
      "Presolved model has 16 SOS constraint(s)\n",
      "Variable types: 672 continuous, 0 integer (0 binary)\n",
      "\n",
      "Root relaxation: objective 1.676211e+08, 77 iterations, 0.00 seconds\n",
      "\n",
      "    Nodes    |    Current Node    |     Objective Bounds      |     Work\n",
      " Expl Unexpl |  Obj  Depth IntInf | Incumbent    BestBd   Gap | It/Node Time\n",
      "\n",
      "*    0     0               0    1.676211e+08 1.6762e+08  0.00%     -    0s\n",
      "\n",
      "Explored 0 nodes (77 simplex iterations) in 0.01 seconds\n",
      "Thread count was 16 (of 16 available processors)\n",
      "\n",
      "Solution count 1: 1.67621e+08 \n",
      "\n",
      "Optimal solution found (tolerance 1.00e-04)\n",
      "Best objective 1.676210598829e+08, best bound 1.676210598829e+08, gap 0.0000%\n"
     ]
    }
   ],
   "source": [
    "model.optimize()"
   ]
  },
  {
   "cell_type": "code",
   "execution_count": 341,
   "metadata": {},
   "outputs": [],
   "source": [
    "opt_tuple = []"
   ]
  },
  {
   "cell_type": "code",
   "execution_count": 342,
   "metadata": {},
   "outputs": [],
   "source": [
    "for v in model.getVars():\n",
    "    if \"spend\" in v.Varname.lower():\n",
    "        opt_tuple = opt_tuple + [(v.Varname.split('|')[0].strip(),v.Varname.split('|')[1].strip(), v.X),]\n"
   ]
  },
  {
   "cell_type": "code",
   "execution_count": 343,
   "metadata": {},
   "outputs": [
    {
     "name": "stdout",
     "output_type": "stream",
     "text": [
      "Warning: environment still referenced so free is deferred\n",
      "Warning: remote job d881a3b7-d24c-482f-8f9a-d3deb044fc7e on server http://10.192.71.215 killed because environment was freed\n"
     ]
    }
   ],
   "source": [
    "env.dispose()"
   ]
  },
  {
   "cell_type": "code",
   "execution_count": 344,
   "metadata": {},
   "outputs": [
    {
     "data": {
      "text/plain": [
       "[('DTC DISPLAY-RA PSA BRANDED', 'NATIONAL', 12353360.652),\n",
       " ('DTC DISPLAY-UC BRANDED', 'NATIONAL', 5875494.516),\n",
       " ('DTC PRINT-RA BRANDED', 'NATIONAL', 4515165.612),\n",
       " ('DTC SEARCH-RA PSA AGNOSTIC BRANDED', 'NATIONAL', 22393576.74),\n",
       " ('DTC SEARCH-UC BRANDED', 'NATIONAL', 5011156.152),\n",
       " ('DTC SOCIAL-RA PSA BRANDED', 'NATIONAL', 7707731.052),\n",
       " ('DTC SOCIAL-UC BRANDED', 'NATIONAL', 10279567.464),\n",
       " ('DTC TV-PSA BRANDED', 'NATIONAL', 3897042.992),\n",
       " ('DTC TV-RA BRANDED', 'NATIONAL', 28907725.672000006),\n",
       " ('DTC TV-RHEUM BRANDED', 'NATIONAL', 34887806.364),\n",
       " ('DTC TV-UC BRANDED', 'NATIONAL', 41934577.153600045),\n",
       " ('DTC VIDEO-RA PSA RHEUM BRANDED', 'NATIONAL', 15554437.488),\n",
       " ('DTC VIDEO-UC BRANDED', 'NATIONAL', 11201992.7424),\n",
       " ('PFIZER DETAILS', 'NATIONAL', 88708497.6),\n",
       " ('PFIZER SAMPLES', 'NATIONAL', 2200123.2),\n",
       " ('SPEAKER', 'NATIONAL', 4275309.6)]"
      ]
     },
     "execution_count": 344,
     "metadata": {},
     "output_type": "execute_result"
    }
   ],
   "source": [
    "opt_tuple"
   ]
  },
  {
   "cell_type": "code",
   "execution_count": 19,
   "metadata": {},
   "outputs": [],
   "source": [
    "# Join the optimized spend with input data\n",
    "opt_df = inp_df.merge(pd.DataFrame(opt_tuple, columns=['channel', 'segment', 'sim_spend']),how='left', left_on=['channel','segment'], right_on = ['channel','segment'])\n",
    "opt_df['sim_spend'] = opt_df['sim_spend'].fillna(opt_df['spend'])"
   ]
  },
  {
   "cell_type": "code",
   "execution_count": 21,
   "metadata": {},
   "outputs": [
    {
     "name": "stdout",
     "output_type": "stream",
     "text": [
      "279492130.53000003\n",
      "279492130.53\n"
     ]
    }
   ],
   "source": [
    "print(opt_df['sim_spend'].sum())\n",
    "print(opt_df['spend'].sum())"
   ]
  },
  {
   "cell_type": "code",
   "execution_count": 24,
   "metadata": {
    "scrolled": true
   },
   "outputs": [
    {
     "name": "stdout",
     "output_type": "stream",
     "text": [
      "0    1.321250e+05\n",
      "1    1.235336e+07\n",
      "2    5.875495e+06\n",
      "3    4.515166e+06\n",
      "4    1.753866e+07\n",
      "5    3.841886e+06\n",
      "6    7.707731e+06\n",
      "7    7.881002e+06\n",
      "8    3.897043e+06\n",
      "9    2.890773e+07\n",
      "Name: sim_spend, dtype: float64\n",
      "0      132125.00\n",
      "1    10294467.21\n",
      "2     4896245.43\n",
      "3     3762638.01\n",
      "4    18661313.95\n",
      "5     4175963.46\n",
      "6     6423109.21\n",
      "7     8566306.22\n",
      "8     4871303.74\n",
      "9    36134657.09\n",
      "Name: spend, dtype: float64\n"
     ]
    }
   ],
   "source": [
    "print(opt_df['sim_spend'][0:10])\n",
    "print(opt_df['spend'][0:10])"
   ]
  },
  {
   "cell_type": "code",
   "execution_count": null,
   "metadata": {},
   "outputs": [],
   "source": []
  },
  {
   "cell_type": "markdown",
   "metadata": {},
   "source": [
    "### Batch Optimization"
   ]
  },
  {
   "cell_type": "code",
   "execution_count": 57,
   "metadata": {
    "collapsed": true
   },
   "outputs": [
    {
     "name": "stdout",
     "output_type": "stream",
     "text": [
      "Changed value of parameter LogFile to batchmode.log\n",
      "   Prev:   Default: \n",
      "Changed value of parameter CSManager to 10.192.71.173:61080\n",
      "   Prev:   Default: \n",
      "Changed value of parameter CSAPIAccessID to 5bcf91fe-dbd5-4b16-bb1e-676001613076\n",
      "   Prev:   Default: \n",
      "Changed value of parameter CSAPISecret\n",
      "Changed value of parameter CSBatchMode to 1\n",
      "   Prev: 0  Min: 0  Max: 1  Default: 0\n",
      "Using license file C:\\gurobi903\\gurobi.lic\n",
      "Set parameter CSManager to value 10.192.71.173:61080\n",
      "Set parameter CSAPIAccessID to value 5bcf91fe-dbd5-4b16-bb1e-676001613076\n",
      "Set parameter CSAPISecret\n",
      "Set parameter CSBatchMode to value 1\n",
      "Set parameter LogFile to value batchmode.log\n"
     ]
    },
    {
     "data": {
      "text/plain": [
       "<gurobipy.Env, Parameter changes: CSManager=10.192.71.173:61080, CSAPIAccessID=5bcf91fe-dbd5-4b16-bb1e-676001613076, CSAPISecret=(user-defined), CSBatchMode=1, LogFile=batchmode.log>"
      ]
     },
     "execution_count": 57,
     "metadata": {},
     "output_type": "execute_result"
    }
   ],
   "source": [
    "env = gp.Env(empty=True)\n",
    "env.setParam('LogFile','batchmode.log')\n",
    "env.setParam(\"CSManager\",\"10.192.71.173:61080\")\n",
    "env.setParam(\"CSAPIAccessID\", \"5bcf91fe-dbd5-4b16-bb1e-676001613076\")\n",
    "env.setParam(\"CSAPISecret\", \"ad261c20-395a-4a86-b059-bd6d7779d132\")\n",
    "env.setParam('CSBatchMode',1)\n",
    "env.start()"
   ]
  },
  {
   "cell_type": "code",
   "execution_count": 58,
   "metadata": {},
   "outputs": [],
   "source": [
    "model = gp.Model(\"promomix-model\", env=env)"
   ]
  },
  {
   "cell_type": "code",
   "execution_count": 59,
   "metadata": {},
   "outputs": [],
   "source": [
    "x = {}\n",
    "y = {}\n",
    "\n",
    "for i in range(num_channels):\n",
    "    x[i] = model.addVar(vtype = GRB.CONTINUOUS,lb = float(inp_df[inp_df[['channel', 'segment']].agg(tuple, 1) == channels_to_opt[i]]['spend_lower_bound']),ub = float(inp_df[inp_df[['channel', 'segment']].agg(tuple, 1) == channels_to_opt[i]]['spend_upper_bound']), name = ('|'.join(channels_to_opt[i]) + '|' + 'Spend'))\n",
    "    y[i] = model.addVar(vtype = GRB.CONTINUOUS, lb = (-gp.GRB.INFINITY), ub = gp.GRB.INFINITY, name = ('|'.join(channels_to_opt[i]) + '|' + 'Revenue'))\n",
    "\n",
    "# Constraint:\n",
    "if(''.join(inp_df['opt_max_criteria'].unique()).lower()!='recommend optimal spend'):\n",
    "    model.addConstr(gp.quicksum(x[i] for i in range(num_channels)) == total_spend, \"Total Spend Constraint \")\n",
    "\n",
    "# Add piecewise-linear constraint - Response Curves\n",
    "\n",
    "if(''.join(inp_df['opt_max_func'].unique()).lower() == \"sales\"):\n",
    "    for i in range(num_channels):\n",
    "        model.addGenConstrPWL(x[i], y[i], inp_resp_df[inp_resp_df[['channel', 'segment']].agg(tuple, 1) == channels_to_opt[i]]['spend'].tolist(), inp_resp_df[inp_resp_df[['channel', 'segment']].agg(tuple, 1) == channels_to_opt[i]]['net_lt_incremental_revenue'].tolist(), \"pwl\")\n",
    "elif(''.join(inp_df['opt_max_func'].unique()).lower() == \"profit\"):\n",
    "     for i in range(num_channels):\n",
    "        model.addGenConstrPWL(x[i], y[i], inp_resp_df[inp_resp_df[['channel', 'segment']].agg(tuple, 1) == channels_to_opt[i]]['spend'].tolist(), inp_resp_df[inp_resp_df[['channel', 'segment']].agg(tuple, 1) == channels_to_opt[i]]['net_lt_profit'].tolist(), \"pwl\")\n",
    "\n",
    "# Objective Function\n",
    "\n",
    "model.setObjective(gp.quicksum(y[i] for i in range(num_channels)), GRB.MAXIMIZE)\n"
   ]
  },
  {
   "cell_type": "code",
   "execution_count": 69,
   "metadata": {
    "collapsed": true
   },
   "outputs": [
    {
     "data": {
      "text/plain": [
       "[<gurobi.Var DTC DISPLAY-RA PSA BRANDED|NATIONAL|Spend>,\n",
       " <gurobi.Var DTC DISPLAY-RA PSA BRANDED|NATIONAL|Revenue>,\n",
       " <gurobi.Var DTC DISPLAY-UC BRANDED|NATIONAL|Spend>,\n",
       " <gurobi.Var DTC DISPLAY-UC BRANDED|NATIONAL|Revenue>,\n",
       " <gurobi.Var DTC PRINT-RA BRANDED|NATIONAL|Spend>,\n",
       " <gurobi.Var DTC PRINT-RA BRANDED|NATIONAL|Revenue>,\n",
       " <gurobi.Var DTC SEARCH-RA PSA AGNOSTIC BRANDED|NATIONAL|Spend>,\n",
       " <gurobi.Var DTC SEARCH-RA PSA AGNOSTIC BRANDED|NATIONAL|Revenue>,\n",
       " <gurobi.Var DTC SEARCH-UC BRANDED|NATIONAL|Spend>,\n",
       " <gurobi.Var DTC SEARCH-UC BRANDED|NATIONAL|Revenue>,\n",
       " <gurobi.Var DTC SOCIAL-RA PSA BRANDED|NATIONAL|Spend>,\n",
       " <gurobi.Var DTC SOCIAL-RA PSA BRANDED|NATIONAL|Revenue>,\n",
       " <gurobi.Var DTC SOCIAL-UC BRANDED|NATIONAL|Spend>,\n",
       " <gurobi.Var DTC SOCIAL-UC BRANDED|NATIONAL|Revenue>,\n",
       " <gurobi.Var DTC TV-PSA BRANDED|NATIONAL|Spend>,\n",
       " <gurobi.Var DTC TV-PSA BRANDED|NATIONAL|Revenue>,\n",
       " <gurobi.Var DTC TV-RA BRANDED|NATIONAL|Spend>,\n",
       " <gurobi.Var DTC TV-RA BRANDED|NATIONAL|Revenue>,\n",
       " <gurobi.Var DTC TV-RHEUM BRANDED|NATIONAL|Spend>,\n",
       " <gurobi.Var DTC TV-RHEUM BRANDED|NATIONAL|Revenue>,\n",
       " <gurobi.Var DTC TV-UC BRANDED|NATIONAL|Spend>,\n",
       " <gurobi.Var DTC TV-UC BRANDED|NATIONAL|Revenue>,\n",
       " <gurobi.Var DTC VIDEO-RA PSA RHEUM BRANDED|NATIONAL|Spend>,\n",
       " <gurobi.Var DTC VIDEO-RA PSA RHEUM BRANDED|NATIONAL|Revenue>,\n",
       " <gurobi.Var DTC VIDEO-UC BRANDED|NATIONAL|Spend>,\n",
       " <gurobi.Var DTC VIDEO-UC BRANDED|NATIONAL|Revenue>,\n",
       " <gurobi.Var PFIZER DETAILS|NATIONAL|Spend>,\n",
       " <gurobi.Var PFIZER DETAILS|NATIONAL|Revenue>,\n",
       " <gurobi.Var PFIZER SAMPLES|NATIONAL|Spend>,\n",
       " <gurobi.Var PFIZER SAMPLES|NATIONAL|Revenue>,\n",
       " <gurobi.Var SPEAKER|NATIONAL|Spend>,\n",
       " <gurobi.Var SPEAKER|NATIONAL|Revenue>]"
      ]
     },
     "execution_count": 69,
     "metadata": {},
     "output_type": "execute_result"
    }
   ],
   "source": [
    "model.getVars()"
   ]
  },
  {
   "cell_type": "code",
   "execution_count": 76,
   "metadata": {},
   "outputs": [],
   "source": [
    "# Tag the variables and constraints\n",
    "\n",
    "# Define tags for some variables in order to access their values later\n",
    "for count, v in enumerate(model.getVars()):\n",
    "    v.VTag = \"Variable{}\".format(v)"
   ]
  },
  {
   "cell_type": "code",
   "execution_count": 77,
   "metadata": {},
   "outputs": [
    {
     "name": "stdout",
     "output_type": "stream",
     "text": [
      "Gurobi Optimizer version 9.0.3 build v9.0.3rc0 (win64)\n",
      "Warning: variable name \"DTC DISPLAY-RA PSA BRANDED|NATIONAL|Spend\" has a space\n",
      "Warning: constraint name \"Total Spend Constraint \" has a space\n",
      "Warning: general constraint 0 and general constraint 1 have the same name \"pwl\"\n",
      "Warning: default variable names used to write mps file\n",
      "Warning: default constraint names used to write mps file\n",
      "Warning: variable name \"DTC DISPLAY-RA PSA BRANDED|NATIONAL|Spend\" has a space\n",
      "Warning: constraint name \"Total Spend Constraint \" has a space\n",
      "Warning: default variable names used to write attributes file\n",
      "Warning: default constraint names used to write attributes file\n"
     ]
    }
   ],
   "source": [
    "batchID = model.optimizeBatch()"
   ]
  },
  {
   "cell_type": "code",
   "execution_count": 73,
   "metadata": {},
   "outputs": [
    {
     "data": {
      "text/plain": [
       "'2e0e887e-5822-4e3d-91af-11ceeb5046b4'"
      ]
     },
     "execution_count": 73,
     "metadata": {},
     "output_type": "execute_result"
    }
   ],
   "source": [
    "batchID"
   ]
  },
  {
   "cell_type": "code",
   "execution_count": null,
   "metadata": {},
   "outputs": [],
   "source": []
  },
  {
   "cell_type": "code",
   "execution_count": null,
   "metadata": {},
   "outputs": [],
   "source": [
    "    try:\n",
    "        with gp.Env(empty=True) as env:\n",
    "\n",
    "            #Compute Server:\n",
    "            #env.setParam(\"CompteServer\", \"myserver1:32123\")\n",
    "            #env.setParam(\"ServerPassword\", \"pass\")\n",
    "            \n",
    "            #Cluser Manager:\n",
    "            env.setParam(\"CSManager\",\"10.192.71.173:61080\")\n",
    "            env.setParam(\"CSAPIAccessID\", \"5bcf91fe-dbd5-4b16-bb1e-676001613076\")\n",
    "            env.setParam(\"CSAPISecret\", \"ad261c20-395a-4a86-b059-bd6d7779d132\")\n",
    "\n",
    "            # Instant Cloud:\n",
    "            #env.setParam(\"CloudHost\",\"cloud.gurobi.com\")\n",
    "            #env.setParam(\"CloudAccessID\",\"78bf9c04-d019-4a7d-ba88-58283915823a\")\n",
    "            #env.setParam(\"CloudSecretKey\", \"YzVhMmU0YjgtYzVmNS00Nz\")\n",
    "            #env.setParam(\"CloudPool\",\"498085-default\")\n",
    "            #env.setParam(\"GURO_PAR_CROSSOVERPI\",0)\n",
    "            env.start()\n",
    "\n",
    "            with gp.Model(\"promomix-model\", env=env) as model:\n",
    "\n",
    "                # Define the variable for optimization\n",
    "                # Can define bounds while declaration of varaibles  - both Upper/Lower Bounds\n",
    "                x = {}\n",
    "                y = {}\n",
    "\n",
    "                for i in range(num_channels):\n",
    "                    x[i] = model.addVar(vtype = GRB.CONTINUOUS,lb = float(inp_df[inp_df[['channel', 'segment']].agg(tuple, 1) == channels_to_opt[i]]['spend_lower_bound']),ub = float(inp_df[inp_df[['channel', 'segment']].agg(tuple, 1) == channels_to_opt[i]]['spend_upper_bound']), name = ('|'.join(channels_to_opt[i]) + '|' + 'Spend'))\n",
    "                    y[i] = model.addVar(vtype = GRB.CONTINUOUS, lb = (-gp.GRB.INFINITY), ub = gp.GRB.INFINITY, name = ('|'.join(channels_to_opt[i]) + '|' + 'Revenue'))\n",
    "\n",
    "                # Constraint:\n",
    "                if(''.join(inp_df['opt_max_criteria'].unique()).lower()!='recommend optimal spend'):\n",
    "                    model.addConstr(gp.quicksum(x[i] for i in range(num_channels)) == total_spend, \"Total Spend Constraint \")\n",
    "\n",
    "                # Add piecewise-linear constraint - Response Curves\n",
    "\n",
    "                if(''.join(inp_df['opt_max_func'].unique()).lower() == \"sales\"):\n",
    "                    for i in range(num_channels):\n",
    "                        model.addGenConstrPWL(x[i], y[i], inp_resp_df[inp_resp_df[['channel', 'segment']].agg(tuple, 1) == channels_to_opt[i]]['spend'].tolist(), inp_resp_df[inp_resp_df[['channel', 'segment']].agg(tuple, 1) == channels_to_opt[i]]['net_lt_incremental_revenue'].tolist(), \"pwl\")\n",
    "                elif(''.join(inp_df['opt_max_func'].unique()).lower() == \"profit\"):\n",
    "                     for i in range(num_channels):\n",
    "                        model.addGenConstrPWL(x[i], y[i], inp_resp_df[inp_resp_df[['channel', 'segment']].agg(tuple, 1) == channels_to_opt[i]]['spend'].tolist(), inp_resp_df[inp_resp_df[['channel', 'segment']].agg(tuple, 1) == channels_to_opt[i]]['net_lt_profit'].tolist(), \"pwl\")\n",
    "\n",
    "                # Objective Function\n",
    "\n",
    "                model.setObjective(gp.quicksum(y[i] for i in range(num_channels)), GRB.MAXIMIZE)\n",
    "\n",
    "                # Optimize\n",
    "                model.optimize()\n",
    "\n",
    "                status = model.Status\n",
    "\n",
    "                if status in (GRB.INF_OR_UNBD, GRB.INFEASIBLE, GRB.UNBOUNDED):\n",
    "                    print('Model cannot be solved because it is infeasible or unbounded')\n",
    "                    sys.exit(0)\n",
    "\n",
    "                if status != GRB.OPTIMAL:\n",
    "                    print('Optimization was stopped with status ' + str(status))\n",
    "                    sys.exit(0)\n",
    "\n",
    "                for v in model.getVars():\n",
    "                    if \"spend\" in v.Varname.lower():\n",
    "                        opt_tuple = opt_tuple + [(v.Varname.split('|')[0].strip(),v.Varname.split('|')[1].strip(), v.X),]\n"
   ]
  },
  {
   "cell_type": "code",
   "execution_count": null,
   "metadata": {},
   "outputs": [],
   "source": [
    "env.dispose()"
   ]
  },
  {
   "cell_type": "code",
   "execution_count": null,
   "metadata": {},
   "outputs": [],
   "source": []
  },
  {
   "cell_type": "code",
   "execution_count": null,
   "metadata": {},
   "outputs": [],
   "source": []
  },
  {
   "cell_type": "code",
   "execution_count": null,
   "metadata": {},
   "outputs": [],
   "source": []
  },
  {
   "cell_type": "code",
   "execution_count": null,
   "metadata": {},
   "outputs": [],
   "source": []
  },
  {
   "cell_type": "code",
   "execution_count": null,
   "metadata": {},
   "outputs": [],
   "source": []
  },
  {
   "cell_type": "code",
   "execution_count": null,
   "metadata": {},
   "outputs": [],
   "source": []
  },
  {
   "cell_type": "code",
   "execution_count": null,
   "metadata": {},
   "outputs": [],
   "source": []
  },
  {
   "cell_type": "markdown",
   "metadata": {},
   "source": [
    "### Optimization Section"
   ]
  },
  {
   "cell_type": "code",
   "execution_count": 6,
   "metadata": {},
   "outputs": [],
   "source": [
    "def run_optimization_scn(inp_df,inp_resp_df):   \n",
    "    \n",
    "    ########################################################################\n",
    "    ## 1. Pre - Processing on Input table based on constraints selections ##\n",
    "    ########################################################################\n",
    "\n",
    "    # Modify Input Data based on National/ Segment Selection\n",
    "    chnl_natl_only = [x for x in inp_df[inp_df['level'].str.lower() == 'level 4 - subchannel']['channel'].unique() if x not in inp_df[inp_df['level'].str.lower() == 'segment']['channel'].unique()]\n",
    "\n",
    "    if(''.join(inp_df['opt_channel_level'].unique()).lower() == 'national'):\n",
    "        inp_df = inp_df[inp_df['level'].str.lower() == 'level 4 - subchannel']\n",
    "    elif(''.join(inp_df['opt_channel_level'].unique()).lower() == 'segment'):\n",
    "        inp_df = inp_df[(inp_df['level'].str.lower() == 'segment') | ((inp_df['level'].str.lower() == 'level 4 - subchannel') & (inp_df['channel'].isin(chnl_natl_only)))]\n",
    "\n",
    "    # Identify channel - segment selected by user for optimization\n",
    "    channels_to_opt = inp_df[inp_df['opt_chnl_selected_flg']==1][['channel', 'segment']].agg(tuple, 1).unique()\n",
    "\n",
    "    # Sales/Profit Maximization Criteria (Remove the component of spends which are not to be optimized)\n",
    "\n",
    "    if(''.join(inp_df['opt_max_criteria'].unique()).lower() =='only reallocate spend'):\n",
    "        total_spend = inp_df['spend'].sum() - (inp_df[inp_df['opt_chnl_selected_flg']==0]['spend'].sum() if 0 in inp_df['opt_chnl_selected_flg'] else 0)\n",
    "    elif(''.join(inp_df['opt_max_criteria'].unique()).lower() =='change spend to'):\n",
    "        total_spend = float(inp_df['user_inp_change_spend_to'].unique()) - (inp_df[inp_df['opt_chnl_selected_flg']==0]['spend'].sum() if 0 in inp_df['opt_chnl_selected_flg'] else 0 )\n",
    "    elif(''.join(inp_df['opt_max_criteria'].unique()).lower() =='recommend optimal spend'):\n",
    "        total_spend = 100000*inp_df['spend'].sum() - (inp_df[inp_df['opt_chnl_selected_flg']==0]['spend'].sum() if 0 in inp_df['opt_chnl_selected_flg'] else 0 ) \n",
    "\n",
    "    #########################\n",
    "    ## 2. Run Optimization ##\n",
    "    #########################\n",
    "\n",
    "    optimized_results = optimize_func(inp_df,inp_resp_df,channels_to_opt)\n",
    "\n",
    "    # Join the optimized spend with input data\n",
    "    opt_df = inp_df.merge(pd.DataFrame(optimized_results, columns=['channel', 'segment', 'sim_spend']),how='left', left_on=['channel','segment'], right_on = ['channel','segment'])\n",
    "    opt_df['sim_spend'] = opt_df['sim_spend'].fillna(opt_df['spend'])\n",
    "    \n",
    "    #######################################################################\n",
    "    ## 3. Post Optimization Calculation of metrics (sales, profit, etc.) ##\n",
    "    #######################################################################\n",
    "\n",
    "    # Please fill the formula based on simulation table calculations\n",
    "    \n",
    "    # calc revenue\n",
    "#     opt_df['sim_gross_lt_incremental_revenue'] = #opt_df['beta'] * math.log(1+opt_df['k_value']*(opt_df['sim_spend']/(opt_df['spend']*opt_df['activity'])/opt_df['reach']/opt_df['modelling_months']) - opt_df['c_value'])\n",
    "#     opt_df['sim_net_lt_incremental_revenue']\n",
    "\n",
    "#     # calc profit\n",
    "#     opt_df['sim_gross_lt_profit']\n",
    "#     opt_df['sim_net_lt_profit']\n",
    "\n",
    "#     # calc roi\n",
    "#     opt_df['sim_gross_lt_roi']\n",
    "#     opt_df['sim_net_lt_roi']\n",
    "\n",
    "#     # calc mroi\n",
    "#     opt_df['sim_gross_lt_mroi']\n",
    "#     opt_df['sim_net_lt_mroi']\n",
    "\n",
    "#     update the rds\n",
    "\n",
    "    return(opt_df)"
   ]
  },
  {
   "cell_type": "markdown",
   "metadata": {},
   "source": [
    "#### Code starts here"
   ]
  },
  {
   "cell_type": "code",
   "execution_count": 7,
   "metadata": {},
   "outputs": [],
   "source": [
    "def optimize_func(inp_df,inp_resp_df,channels_to_opt):\n",
    "    opt_tuple = []\n",
    "    num_channels = len(channels_to_opt)\n",
    "    try:\n",
    "        with gp.Env(empty=True) as env:\n",
    "\n",
    "            #Compute Server:\n",
    "            #env.setParam(\"CompteServer\", \"myserver1:32123\")\n",
    "            #env.setParam(\"ServerPassword\", \"pass\")\n",
    "            \n",
    "            #Cluser Manager:\n",
    "            env.setParam(\"CSManager\",\"10.192.71.173:61080\")\n",
    "            env.setParam(\"CSAPIAccessID\", \"5bcf91fe-dbd5-4b16-bb1e-676001613076\")\n",
    "            env.setParam(\"CSAPISecret\", \"ad261c20-395a-4a86-b059-bd6d7779d132\")\n",
    "\n",
    "            # Instant Cloud:\n",
    "            #env.setParam(\"CloudHost\",\"cloud.gurobi.com\")\n",
    "            #env.setParam(\"CloudAccessID\",\"78bf9c04-d019-4a7d-ba88-58283915823a\")\n",
    "            #env.setParam(\"CloudSecretKey\", \"YzVhMmU0YjgtYzVmNS00Nz\")\n",
    "            #env.setParam(\"CloudPool\",\"498085-default\")\n",
    "            #env.setParam(\"GURO_PAR_CROSSOVERPI\",0)\n",
    "            env.start()\n",
    "\n",
    "            with gp.Model(\"promomix-model\", env=env) as model:\n",
    "\n",
    "                # Define the variable for optimization\n",
    "                # Can define bounds while declaration of varaibles  - both Upper/Lower Bounds\n",
    "                x = {}\n",
    "                y = {}\n",
    "\n",
    "                for i in range(num_channels):\n",
    "                    x[i] = model.addVar(vtype = GRB.CONTINUOUS,lb = float(inp_df[inp_df[['channel', 'segment']].agg(tuple, 1) == channels_to_opt[i]]['spend_lower_bound']),ub = float(inp_df[inp_df[['channel', 'segment']].agg(tuple, 1) == channels_to_opt[i]]['spend_upper_bound']), name = ('|'.join(channels_to_opt[i]) + '|' + 'Spend'))\n",
    "                    y[i] = model.addVar(vtype = GRB.CONTINUOUS, lb = (-gp.GRB.INFINITY), ub = gp.GRB.INFINITY, name = ('|'.join(channels_to_opt[i]) + '|' + 'Revenue'))\n",
    "\n",
    "                # Constraint:\n",
    "                if(''.join(inp_df['opt_max_criteria'].unique()).lower()!='recommend optimal spend'):\n",
    "                    model.addConstr(gp.quicksum(x[i] for i in range(num_channels)) == total_spend, \"Total Spend Constraint \")\n",
    "\n",
    "                # Add piecewise-linear constraint - Response Curves\n",
    "\n",
    "                if(''.join(inp_df['opt_max_func'].unique()).lower() == \"sales\"):\n",
    "                    for i in range(num_channels):\n",
    "                        model.addGenConstrPWL(x[i], y[i], inp_resp_df[inp_resp_df[['channel', 'segment']].agg(tuple, 1) == channels_to_opt[i]]['spend'].tolist(), inp_resp_df[inp_resp_df[['channel', 'segment']].agg(tuple, 1) == channels_to_opt[i]]['net_lt_incremental_revenue'].tolist(), \"pwl\")\n",
    "                elif(''.join(inp_df['opt_max_func'].unique()).lower() == \"profit\"):\n",
    "                     for i in range(num_channels):\n",
    "                        model.addGenConstrPWL(x[i], y[i], inp_resp_df[inp_resp_df[['channel', 'segment']].agg(tuple, 1) == channels_to_opt[i]]['spend'].tolist(), inp_resp_df[inp_resp_df[['channel', 'segment']].agg(tuple, 1) == channels_to_opt[i]]['net_lt_profit'].tolist(), \"pwl\")\n",
    "\n",
    "                # Objective Function\n",
    "\n",
    "                model.setObjective(gp.quicksum(y[i] for i in range(num_channels)), GRB.MAXIMIZE)\n",
    "\n",
    "                # Optimize\n",
    "                model.optimize()\n",
    "\n",
    "                status = model.Status\n",
    "\n",
    "                if status in (GRB.INF_OR_UNBD, GRB.INFEASIBLE, GRB.UNBOUNDED):\n",
    "                    print('Model cannot be solved because it is infeasible or unbounded')\n",
    "                    sys.exit(0)\n",
    "\n",
    "                if status != GRB.OPTIMAL:\n",
    "                    print('Optimization was stopped with status ' + str(status))\n",
    "                    sys.exit(0)\n",
    "\n",
    "                for v in model.getVars():\n",
    "                    if \"spend\" in v.Varname.lower():\n",
    "                        opt_tuple = opt_tuple + [(v.Varname.split('|')[0].strip(),v.Varname.split('|')[1].strip(), v.X),]\n",
    "\n",
    "    except gurobipy.GurobiError as e:\n",
    "        print('Error code ' + str(e.errno) + \": \" + str(e))\n",
    "    except AttributeError as e:\n",
    "        print('Encountered an attribute error: ' + str(e))\n",
    "    finally:\n",
    "        # Safely release memory and/or server side resources consumed by\n",
    "        # the default environment.\n",
    "        env.dispose()\n",
    "        return(opt_tuple)"
   ]
  },
  {
   "cell_type": "markdown",
   "metadata": {},
   "source": [
    "### Calls optimization at the end"
   ]
  },
  {
   "cell_type": "code",
   "execution_count": 8,
   "metadata": {},
   "outputs": [
    {
     "name": "stdout",
     "output_type": "stream",
     "text": [
      "Changed value of parameter CSManager to 10.192.71.173:61080\n",
      "   Prev:   Default: \n",
      "Changed value of parameter CSAPIAccessID to 5bcf91fe-dbd5-4b16-bb1e-676001613076\n",
      "   Prev:   Default: \n",
      "Changed value of parameter CSAPISecret\n",
      "Using license file C:\\gurobi903\\gurobi.lic\n",
      "Set parameter CSManager to value 10.192.71.173:61080\n",
      "Set parameter CSAPIAccessID to value 5bcf91fe-dbd5-4b16-bb1e-676001613076\n",
      "Set parameter CSAPISecret\n",
      "Compute Server job ID: 69d4c6e0-371a-4e16-80d8-ac2e0ce7a1e0\n",
      "Capacity available on '10.192.71.215' - connecting...\n",
      "Established HTTP unencrypted connection\n",
      "\n",
      "Compute Server communication statistics:\n",
      "  Sent: 0.001 MBytes in 7 msgs and 4.07s (0.00 MB/s)\n",
      "  Received: 0.001 MBytes in 4 msgs and 2.36s (0.00 MB/s)\n",
      "\n"
     ]
    }
   ],
   "source": [
    "inter_table_df = run_optimization_scn(inp_df = promomix_df,inp_resp_df = response_curve_df)"
   ]
  },
  {
   "cell_type": "code",
   "execution_count": 65,
   "metadata": {
    "collapsed": true
   },
   "outputs": [
    {
     "name": "stdout",
     "output_type": "stream",
     "text": [
      "Changed value of parameter CSManager to 10.192.71.173:61080\n",
      "   Prev:   Default: \n",
      "Changed value of parameter CSAPIAccessID to 5bcf91fe-dbd5-4b16-bb1e-676001613076\n",
      "   Prev:   Default: \n",
      "Changed value of parameter CSAPISecret\n",
      "Using license file C:\\gurobi903\\gurobi.lic\n",
      "Set parameter CSManager to value 10.192.71.173:61080\n",
      "Set parameter CSAPIAccessID to value 5bcf91fe-dbd5-4b16-bb1e-676001613076\n",
      "Set parameter CSAPISecret\n",
      "Compute Server job ID: 733e4043-c992-49d4-9324-728073a87c57\n",
      "Capacity available on '10.192.71.215:61080' - connecting...\n",
      "Established HTTP unencrypted connection\n",
      "Gurobi Optimizer version 9.0.3 build v9.0.3rc0 (win64)\n",
      "Optimize a model with 1 rows, 32 columns and 16 nonzeros\n",
      "Model fingerprint: 0x332c0dae\n",
      "Model has 16 general constraints\n",
      "Variable types: 32 continuous, 0 integer (0 binary)\n",
      "Coefficient statistics:\n",
      "  Matrix range     [1e+00, 1e+00]\n",
      "  Objective range  [1e+00, 1e+00]\n",
      "  Bounds range     [1e+06, 9e+07]\n",
      "  RHS range        [3e+08, 3e+08]\n",
      "Presolve added 32 rows and 640 columns\n",
      "Presolve time: 0.00s\n",
      "Presolved: 33 rows, 672 columns, 1344 nonzeros\n",
      "Presolved model has 16 SOS constraint(s)\n",
      "Variable types: 672 continuous, 0 integer (0 binary)\n",
      "\n",
      "Root relaxation: objective 4.620023e+08, 76 iterations, 0.00 seconds\n",
      "\n",
      "    Nodes    |    Current Node    |     Objective Bounds      |     Work\n",
      " Expl Unexpl |  Obj  Depth IntInf | Incumbent    BestBd   Gap | It/Node Time\n",
      "\n",
      "*    0     0               0    4.620023e+08 4.6200e+08  0.00%     -    0s\n",
      "\n",
      "Explored 0 nodes (76 simplex iterations) in 0.01 seconds\n",
      "Thread count was 16 (of 16 available processors)\n",
      "\n",
      "Solution count 1: 4.62002e+08 \n",
      "\n",
      "Optimal solution found (tolerance 1.00e-04)\n",
      "Best objective 4.620023075679e+08, best bound 4.620023075679e+08, gap 0.0000%\n",
      "\n",
      "Compute Server communication statistics:\n",
      "  Sent: 0.045 MBytes in 18 msgs and 10.84s (0.00 MB/s)\n",
      "  Received: 0.006 MBytes in 8 msgs and 4.12s (0.00 MB/s)\n",
      "\n"
     ]
    }
   ],
   "source": [
    "inter_table_df = run_optimization_scn(inp_df = promomix_df,inp_resp_df = response_curve_df)"
   ]
  },
  {
   "cell_type": "code",
   "execution_count": 69,
   "metadata": {},
   "outputs": [
    {
     "data": {
      "text/html": [
       "<div>\n",
       "<style scoped>\n",
       "    .dataframe tbody tr th:only-of-type {\n",
       "        vertical-align: middle;\n",
       "    }\n",
       "\n",
       "    .dataframe tbody tr th {\n",
       "        vertical-align: top;\n",
       "    }\n",
       "\n",
       "    .dataframe thead th {\n",
       "        text-align: right;\n",
       "    }\n",
       "</style>\n",
       "<table border=\"1\" class=\"dataframe\">\n",
       "  <thead>\n",
       "    <tr style=\"text-align: right;\">\n",
       "      <th></th>\n",
       "      <th>country</th>\n",
       "      <th>brand</th>\n",
       "      <th>segment</th>\n",
       "      <th>period</th>\n",
       "      <th>level</th>\n",
       "      <th>segment_level</th>\n",
       "      <th>channel_category</th>\n",
       "      <th>channel_type</th>\n",
       "      <th>channel</th>\n",
       "      <th>sub_channel</th>\n",
       "      <th>...</th>\n",
       "      <th>frequency</th>\n",
       "      <th>gtn</th>\n",
       "      <th>net_sales</th>\n",
       "      <th>spend_lower_bound</th>\n",
       "      <th>spend_upper_bound</th>\n",
       "      <th>opt_max_func</th>\n",
       "      <th>opt_max_criteria</th>\n",
       "      <th>opt_channel_level</th>\n",
       "      <th>user_inp_change_spend_to</th>\n",
       "      <th>sim_spend</th>\n",
       "    </tr>\n",
       "  </thead>\n",
       "  <tbody>\n",
       "    <tr>\n",
       "      <th>0</th>\n",
       "      <td>USA</td>\n",
       "      <td>XELJANZ</td>\n",
       "      <td>NATIONAL</td>\n",
       "      <td>FY2019</td>\n",
       "      <td>LEVEL 4 - Subchannel</td>\n",
       "      <td>NATIONAL</td>\n",
       "      <td>MCM</td>\n",
       "      <td>DIRECTMAIL</td>\n",
       "      <td>DIRECTMAIL</td>\n",
       "      <td>DIRECTMAIL</td>\n",
       "      <td>...</td>\n",
       "      <td>0.179982</td>\n",
       "      <td>0.5</td>\n",
       "      <td>9.209038e+08</td>\n",
       "      <td>1.057000e+05</td>\n",
       "      <td>1.585500e+05</td>\n",
       "      <td>Sales</td>\n",
       "      <td>Only reallocate spend</td>\n",
       "      <td>National</td>\n",
       "      <td>NaN</td>\n",
       "      <td>1.321250e+05</td>\n",
       "    </tr>\n",
       "    <tr>\n",
       "      <th>1</th>\n",
       "      <td>USA</td>\n",
       "      <td>XELJANZ</td>\n",
       "      <td>NATIONAL</td>\n",
       "      <td>FY2019</td>\n",
       "      <td>LEVEL 4 - Subchannel</td>\n",
       "      <td>NATIONAL</td>\n",
       "      <td>DTC</td>\n",
       "      <td>DTC DISPLAY/SOCIAL</td>\n",
       "      <td>DTC DISPLAY-RA PSA BRANDED</td>\n",
       "      <td>RA PSA BRANDED</td>\n",
       "      <td>...</td>\n",
       "      <td>417690.549442</td>\n",
       "      <td>0.5</td>\n",
       "      <td>1.114554e+09</td>\n",
       "      <td>8.235574e+06</td>\n",
       "      <td>1.235336e+07</td>\n",
       "      <td>Sales</td>\n",
       "      <td>Only reallocate spend</td>\n",
       "      <td>National</td>\n",
       "      <td>NaN</td>\n",
       "      <td>1.235336e+07</td>\n",
       "    </tr>\n",
       "    <tr>\n",
       "      <th>2</th>\n",
       "      <td>USA</td>\n",
       "      <td>XELJANZ</td>\n",
       "      <td>NATIONAL</td>\n",
       "      <td>FY2019</td>\n",
       "      <td>LEVEL 4 - Subchannel</td>\n",
       "      <td>NATIONAL</td>\n",
       "      <td>DTC</td>\n",
       "      <td>DTC DISPLAY/SOCIAL</td>\n",
       "      <td>DTC DISPLAY-UC BRANDED</td>\n",
       "      <td>UC BRANDED</td>\n",
       "      <td>...</td>\n",
       "      <td>398987.853668</td>\n",
       "      <td>0.5</td>\n",
       "      <td>1.114554e+09</td>\n",
       "      <td>3.916996e+06</td>\n",
       "      <td>5.875495e+06</td>\n",
       "      <td>Sales</td>\n",
       "      <td>Only reallocate spend</td>\n",
       "      <td>National</td>\n",
       "      <td>NaN</td>\n",
       "      <td>5.875495e+06</td>\n",
       "    </tr>\n",
       "    <tr>\n",
       "      <th>3</th>\n",
       "      <td>USA</td>\n",
       "      <td>XELJANZ</td>\n",
       "      <td>NATIONAL</td>\n",
       "      <td>FY2019</td>\n",
       "      <td>LEVEL 4 - Subchannel</td>\n",
       "      <td>NATIONAL</td>\n",
       "      <td>DTC</td>\n",
       "      <td>DTC PRINT</td>\n",
       "      <td>DTC PRINT-RA BRANDED</td>\n",
       "      <td>RA BRANDED</td>\n",
       "      <td>...</td>\n",
       "      <td>0.067375</td>\n",
       "      <td>0.5</td>\n",
       "      <td>1.114554e+09</td>\n",
       "      <td>3.010110e+06</td>\n",
       "      <td>4.515166e+06</td>\n",
       "      <td>Sales</td>\n",
       "      <td>Only reallocate spend</td>\n",
       "      <td>National</td>\n",
       "      <td>NaN</td>\n",
       "      <td>4.515166e+06</td>\n",
       "    </tr>\n",
       "    <tr>\n",
       "      <th>4</th>\n",
       "      <td>USA</td>\n",
       "      <td>XELJANZ</td>\n",
       "      <td>NATIONAL</td>\n",
       "      <td>FY2019</td>\n",
       "      <td>LEVEL 4 - Subchannel</td>\n",
       "      <td>NATIONAL</td>\n",
       "      <td>DTC</td>\n",
       "      <td>DTC SEARCH</td>\n",
       "      <td>DTC SEARCH-RA PSA AGNOSTIC BRANDED</td>\n",
       "      <td>RA PSA AGNOSTIC BRANDED</td>\n",
       "      <td>...</td>\n",
       "      <td>2552.465311</td>\n",
       "      <td>0.5</td>\n",
       "      <td>1.114554e+09</td>\n",
       "      <td>1.492905e+07</td>\n",
       "      <td>2.239358e+07</td>\n",
       "      <td>Sales</td>\n",
       "      <td>Only reallocate spend</td>\n",
       "      <td>National</td>\n",
       "      <td>NaN</td>\n",
       "      <td>1.753866e+07</td>\n",
       "    </tr>\n",
       "  </tbody>\n",
       "</table>\n",
       "<p>5 rows × 132 columns</p>\n",
       "</div>"
      ],
      "text/plain": [
       "  country    brand   segment  period                 level segment_level  \\\n",
       "0     USA  XELJANZ  NATIONAL  FY2019  LEVEL 4 - Subchannel      NATIONAL   \n",
       "1     USA  XELJANZ  NATIONAL  FY2019  LEVEL 4 - Subchannel      NATIONAL   \n",
       "2     USA  XELJANZ  NATIONAL  FY2019  LEVEL 4 - Subchannel      NATIONAL   \n",
       "3     USA  XELJANZ  NATIONAL  FY2019  LEVEL 4 - Subchannel      NATIONAL   \n",
       "4     USA  XELJANZ  NATIONAL  FY2019  LEVEL 4 - Subchannel      NATIONAL   \n",
       "\n",
       "  channel_category        channel_type                             channel  \\\n",
       "0              MCM          DIRECTMAIL                          DIRECTMAIL   \n",
       "1              DTC  DTC DISPLAY/SOCIAL          DTC DISPLAY-RA PSA BRANDED   \n",
       "2              DTC  DTC DISPLAY/SOCIAL              DTC DISPLAY-UC BRANDED   \n",
       "3              DTC           DTC PRINT                DTC PRINT-RA BRANDED   \n",
       "4              DTC          DTC SEARCH  DTC SEARCH-RA PSA AGNOSTIC BRANDED   \n",
       "\n",
       "               sub_channel  ...      frequency  gtn     net_sales  \\\n",
       "0               DIRECTMAIL  ...       0.179982  0.5  9.209038e+08   \n",
       "1           RA PSA BRANDED  ...  417690.549442  0.5  1.114554e+09   \n",
       "2               UC BRANDED  ...  398987.853668  0.5  1.114554e+09   \n",
       "3               RA BRANDED  ...       0.067375  0.5  1.114554e+09   \n",
       "4  RA PSA AGNOSTIC BRANDED  ...    2552.465311  0.5  1.114554e+09   \n",
       "\n",
       "   spend_lower_bound  spend_upper_bound  opt_max_func       opt_max_criteria  \\\n",
       "0       1.057000e+05       1.585500e+05         Sales  Only reallocate spend   \n",
       "1       8.235574e+06       1.235336e+07         Sales  Only reallocate spend   \n",
       "2       3.916996e+06       5.875495e+06         Sales  Only reallocate spend   \n",
       "3       3.010110e+06       4.515166e+06         Sales  Only reallocate spend   \n",
       "4       1.492905e+07       2.239358e+07         Sales  Only reallocate spend   \n",
       "\n",
       "   opt_channel_level  user_inp_change_spend_to     sim_spend  \n",
       "0           National                       NaN  1.321250e+05  \n",
       "1           National                       NaN  1.235336e+07  \n",
       "2           National                       NaN  5.875495e+06  \n",
       "3           National                       NaN  4.515166e+06  \n",
       "4           National                       NaN  1.753866e+07  \n",
       "\n",
       "[5 rows x 132 columns]"
      ]
     },
     "execution_count": 69,
     "metadata": {},
     "output_type": "execute_result"
    }
   ],
   "source": [
    "inter_table_df.head()"
   ]
  },
  {
   "cell_type": "code",
   "execution_count": 9,
   "metadata": {},
   "outputs": [
    {
     "data": {
      "text/html": [
       "<div>\n",
       "<style scoped>\n",
       "    .dataframe tbody tr th:only-of-type {\n",
       "        vertical-align: middle;\n",
       "    }\n",
       "\n",
       "    .dataframe tbody tr th {\n",
       "        vertical-align: top;\n",
       "    }\n",
       "\n",
       "    .dataframe thead th {\n",
       "        text-align: right;\n",
       "    }\n",
       "</style>\n",
       "<table border=\"1\" class=\"dataframe\">\n",
       "  <thead>\n",
       "    <tr style=\"text-align: right;\">\n",
       "      <th></th>\n",
       "      <th>country</th>\n",
       "      <th>brand</th>\n",
       "      <th>segment</th>\n",
       "      <th>period</th>\n",
       "      <th>level</th>\n",
       "      <th>segment_level</th>\n",
       "      <th>channel_category</th>\n",
       "      <th>channel_type</th>\n",
       "      <th>channel</th>\n",
       "      <th>sub_channel</th>\n",
       "      <th>...</th>\n",
       "      <th>frequency</th>\n",
       "      <th>gtn</th>\n",
       "      <th>net_sales</th>\n",
       "      <th>spend_lower_bound</th>\n",
       "      <th>spend_upper_bound</th>\n",
       "      <th>opt_max_func</th>\n",
       "      <th>opt_max_criteria</th>\n",
       "      <th>opt_channel_level</th>\n",
       "      <th>user_inp_change_spend_to</th>\n",
       "      <th>sim_spend</th>\n",
       "    </tr>\n",
       "  </thead>\n",
       "  <tbody>\n",
       "    <tr>\n",
       "      <th>0</th>\n",
       "      <td>USA</td>\n",
       "      <td>XELJANZ</td>\n",
       "      <td>NATIONAL</td>\n",
       "      <td>FY2019</td>\n",
       "      <td>LEVEL 4 - Subchannel</td>\n",
       "      <td>NATIONAL</td>\n",
       "      <td>MCM</td>\n",
       "      <td>DIRECTMAIL</td>\n",
       "      <td>DIRECTMAIL</td>\n",
       "      <td>DIRECTMAIL</td>\n",
       "      <td>...</td>\n",
       "      <td>0.179982</td>\n",
       "      <td>0.5</td>\n",
       "      <td>9.209038e+08</td>\n",
       "      <td>1.057000e+05</td>\n",
       "      <td>1.585500e+05</td>\n",
       "      <td>Sales</td>\n",
       "      <td>Only reallocate spend</td>\n",
       "      <td>National</td>\n",
       "      <td>NaN</td>\n",
       "      <td>132125.00</td>\n",
       "    </tr>\n",
       "    <tr>\n",
       "      <th>1</th>\n",
       "      <td>USA</td>\n",
       "      <td>XELJANZ</td>\n",
       "      <td>NATIONAL</td>\n",
       "      <td>FY2019</td>\n",
       "      <td>LEVEL 4 - Subchannel</td>\n",
       "      <td>NATIONAL</td>\n",
       "      <td>DTC</td>\n",
       "      <td>DTC DISPLAY/SOCIAL</td>\n",
       "      <td>DTC DISPLAY-RA PSA BRANDED</td>\n",
       "      <td>RA PSA BRANDED</td>\n",
       "      <td>...</td>\n",
       "      <td>417690.549442</td>\n",
       "      <td>0.5</td>\n",
       "      <td>1.114554e+09</td>\n",
       "      <td>8.235574e+06</td>\n",
       "      <td>1.235336e+07</td>\n",
       "      <td>Sales</td>\n",
       "      <td>Only reallocate spend</td>\n",
       "      <td>National</td>\n",
       "      <td>NaN</td>\n",
       "      <td>10294467.21</td>\n",
       "    </tr>\n",
       "    <tr>\n",
       "      <th>2</th>\n",
       "      <td>USA</td>\n",
       "      <td>XELJANZ</td>\n",
       "      <td>NATIONAL</td>\n",
       "      <td>FY2019</td>\n",
       "      <td>LEVEL 4 - Subchannel</td>\n",
       "      <td>NATIONAL</td>\n",
       "      <td>DTC</td>\n",
       "      <td>DTC DISPLAY/SOCIAL</td>\n",
       "      <td>DTC DISPLAY-UC BRANDED</td>\n",
       "      <td>UC BRANDED</td>\n",
       "      <td>...</td>\n",
       "      <td>398987.853668</td>\n",
       "      <td>0.5</td>\n",
       "      <td>1.114554e+09</td>\n",
       "      <td>3.916996e+06</td>\n",
       "      <td>5.875495e+06</td>\n",
       "      <td>Sales</td>\n",
       "      <td>Only reallocate spend</td>\n",
       "      <td>National</td>\n",
       "      <td>NaN</td>\n",
       "      <td>4896245.43</td>\n",
       "    </tr>\n",
       "    <tr>\n",
       "      <th>3</th>\n",
       "      <td>USA</td>\n",
       "      <td>XELJANZ</td>\n",
       "      <td>NATIONAL</td>\n",
       "      <td>FY2019</td>\n",
       "      <td>LEVEL 4 - Subchannel</td>\n",
       "      <td>NATIONAL</td>\n",
       "      <td>DTC</td>\n",
       "      <td>DTC PRINT</td>\n",
       "      <td>DTC PRINT-RA BRANDED</td>\n",
       "      <td>RA BRANDED</td>\n",
       "      <td>...</td>\n",
       "      <td>0.067375</td>\n",
       "      <td>0.5</td>\n",
       "      <td>1.114554e+09</td>\n",
       "      <td>3.010110e+06</td>\n",
       "      <td>4.515166e+06</td>\n",
       "      <td>Sales</td>\n",
       "      <td>Only reallocate spend</td>\n",
       "      <td>National</td>\n",
       "      <td>NaN</td>\n",
       "      <td>3762638.01</td>\n",
       "    </tr>\n",
       "    <tr>\n",
       "      <th>4</th>\n",
       "      <td>USA</td>\n",
       "      <td>XELJANZ</td>\n",
       "      <td>NATIONAL</td>\n",
       "      <td>FY2019</td>\n",
       "      <td>LEVEL 4 - Subchannel</td>\n",
       "      <td>NATIONAL</td>\n",
       "      <td>DTC</td>\n",
       "      <td>DTC SEARCH</td>\n",
       "      <td>DTC SEARCH-RA PSA AGNOSTIC BRANDED</td>\n",
       "      <td>RA PSA AGNOSTIC BRANDED</td>\n",
       "      <td>...</td>\n",
       "      <td>2552.465311</td>\n",
       "      <td>0.5</td>\n",
       "      <td>1.114554e+09</td>\n",
       "      <td>1.492905e+07</td>\n",
       "      <td>2.239358e+07</td>\n",
       "      <td>Sales</td>\n",
       "      <td>Only reallocate spend</td>\n",
       "      <td>National</td>\n",
       "      <td>NaN</td>\n",
       "      <td>18661313.95</td>\n",
       "    </tr>\n",
       "  </tbody>\n",
       "</table>\n",
       "<p>5 rows × 132 columns</p>\n",
       "</div>"
      ],
      "text/plain": [
       "  country    brand   segment  period                 level segment_level  \\\n",
       "0     USA  XELJANZ  NATIONAL  FY2019  LEVEL 4 - Subchannel      NATIONAL   \n",
       "1     USA  XELJANZ  NATIONAL  FY2019  LEVEL 4 - Subchannel      NATIONAL   \n",
       "2     USA  XELJANZ  NATIONAL  FY2019  LEVEL 4 - Subchannel      NATIONAL   \n",
       "3     USA  XELJANZ  NATIONAL  FY2019  LEVEL 4 - Subchannel      NATIONAL   \n",
       "4     USA  XELJANZ  NATIONAL  FY2019  LEVEL 4 - Subchannel      NATIONAL   \n",
       "\n",
       "  channel_category        channel_type                             channel  \\\n",
       "0              MCM          DIRECTMAIL                          DIRECTMAIL   \n",
       "1              DTC  DTC DISPLAY/SOCIAL          DTC DISPLAY-RA PSA BRANDED   \n",
       "2              DTC  DTC DISPLAY/SOCIAL              DTC DISPLAY-UC BRANDED   \n",
       "3              DTC           DTC PRINT                DTC PRINT-RA BRANDED   \n",
       "4              DTC          DTC SEARCH  DTC SEARCH-RA PSA AGNOSTIC BRANDED   \n",
       "\n",
       "               sub_channel  ...      frequency  gtn     net_sales  \\\n",
       "0               DIRECTMAIL  ...       0.179982  0.5  9.209038e+08   \n",
       "1           RA PSA BRANDED  ...  417690.549442  0.5  1.114554e+09   \n",
       "2               UC BRANDED  ...  398987.853668  0.5  1.114554e+09   \n",
       "3               RA BRANDED  ...       0.067375  0.5  1.114554e+09   \n",
       "4  RA PSA AGNOSTIC BRANDED  ...    2552.465311  0.5  1.114554e+09   \n",
       "\n",
       "   spend_lower_bound  spend_upper_bound  opt_max_func       opt_max_criteria  \\\n",
       "0       1.057000e+05       1.585500e+05         Sales  Only reallocate spend   \n",
       "1       8.235574e+06       1.235336e+07         Sales  Only reallocate spend   \n",
       "2       3.916996e+06       5.875495e+06         Sales  Only reallocate spend   \n",
       "3       3.010110e+06       4.515166e+06         Sales  Only reallocate spend   \n",
       "4       1.492905e+07       2.239358e+07         Sales  Only reallocate spend   \n",
       "\n",
       "   opt_channel_level  user_inp_change_spend_to    sim_spend  \n",
       "0           National                       NaN    132125.00  \n",
       "1           National                       NaN  10294467.21  \n",
       "2           National                       NaN   4896245.43  \n",
       "3           National                       NaN   3762638.01  \n",
       "4           National                       NaN  18661313.95  \n",
       "\n",
       "[5 rows x 132 columns]"
      ]
     },
     "execution_count": 9,
     "metadata": {},
     "output_type": "execute_result"
    }
   ],
   "source": [
    "inter_table_df.head()"
   ]
  }
 ],
 "metadata": {
  "kernelspec": {
   "display_name": "Python 3",
   "language": "python",
   "name": "python3"
  },
  "language_info": {
   "codemirror_mode": {
    "name": "ipython",
    "version": 3
   },
   "file_extension": ".py",
   "mimetype": "text/x-python",
   "name": "python",
   "nbconvert_exporter": "python",
   "pygments_lexer": "ipython3",
   "version": "3.7.7"
  }
 },
 "nbformat": 4,
 "nbformat_minor": 4
}
